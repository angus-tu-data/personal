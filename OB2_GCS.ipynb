{
 "cells": [
  {
   "cell_type": "markdown",
   "id": "5518df56",
   "metadata": {},
   "source": [
    "Data Engineer OnBoard - Week 2 \n",
    "# GCS and BigQuery\n",
    "Angus Tu\n",
    "2025.09.17"
   ]
  },
  {
   "cell_type": "markdown",
   "id": "0c9a60ef",
   "metadata": {},
   "source": [
    "As a data engineer, now I have received a digital transformation request from a travel company, and need to assist them in migrating their data to Google Cloud step by step.\n",
    "\n",
    "First, I received a file related to travel products, and I need to upload the data to Google Cloud Storage."
   ]
  },
  {
   "cell_type": "markdown",
   "id": "67ff5d0b",
   "metadata": {},
   "source": [
    "----\n",
    "# GCS: Google Cloud Storage"
   ]
  },
  {
   "cell_type": "markdown",
   "id": "f178131a",
   "metadata": {},
   "source": [
    "## Set Permission \n",
    "You need the <u>Storage Object User</u> role and the permissions <u>storage.buckets.create</u> and <u>storage.buckets.list</u>."
   ]
  },
  {
   "cell_type": "markdown",
   "id": "add9f1a3",
   "metadata": {},
   "source": [
    "> As an admin"
   ]
  },
  {
   "cell_type": "code",
   "execution_count": null,
   "id": "a9d8fe63",
   "metadata": {
    "vscode": {
     "languageId": "shellscript"
    }
   },
   "outputs": [],
   "source": [
    "gcloud config configurations activate default"
   ]
  },
  {
   "cell_type": "code",
   "execution_count": null,
   "id": "86f32c21",
   "metadata": {
    "vscode": {
     "languageId": "shellscript"
    }
   },
   "outputs": [],
   "source": [
    "gcloud iam roles create bucketCreator \\\n",
    "    --project=tw-rd-data-angus-tu \\\n",
    "    --title=\"Storage Bucket Creator PoLP\" \\\n",
    "    --description=\"Can only create and list buckets\" \\\n",
    "    --permissions=storage.buckets.create,storage.buckets.list \\\n",
    "    --stage=GA"
   ]
  },
  {
   "cell_type": "code",
   "execution_count": null,
   "id": "5d148fa2",
   "metadata": {
    "vscode": {
     "languageId": "shellscript"
    }
   },
   "outputs": [],
   "source": [
    "gcloud projects add-iam-policy-binding tw-rd-data-angus-tu \\\n",
    "    --member=\"serviceAccount:angus-personal@tw-rd-data-angus-tu.iam.gserviceaccount.com\" \\\n",
    "    --role=\"projects/tw-rd-data-angus-tu/roles/bucketCreator\""
   ]
  },
  {
   "cell_type": "code",
   "execution_count": null,
   "id": "4d7525b6",
   "metadata": {
    "vscode": {
     "languageId": "shellscript"
    }
   },
   "outputs": [],
   "source": [
    "gcloud projects add-iam-policy-binding tw-rd-data-angus-tu \\\n",
    "    --member=\"serviceAccount:angus-personal@tw-rd-data-angus-tu.iam.gserviceaccount.com\" \\\n",
    "    --role=\"roles/storage.objectUser\""
   ]
  },
  {
   "cell_type": "markdown",
   "id": "a94beb2b",
   "metadata": {},
   "source": [
    "> As a service account"
   ]
  },
  {
   "cell_type": "code",
   "execution_count": null,
   "id": "33a93a09",
   "metadata": {
    "vscode": {
     "languageId": "shellscript"
    }
   },
   "outputs": [],
   "source": [
    "gcloud config configurations activate sa"
   ]
  },
  {
   "cell_type": "markdown",
   "id": "eeb9aff8",
   "metadata": {},
   "source": [
    "## Create Buckets\n",
    "You can use either the `gcloud` CLI or the `gsutil` command to create buckets.     \n",
    "\n",
    "*P.S. Using the GUI interface is more intuitive and convenient, but for documentation purposes, I record the steps with code.*"
   ]
  },
  {
   "cell_type": "code",
   "execution_count": null,
   "id": "da948670",
   "metadata": {
    "vscode": {
     "languageId": "shellscript"
    }
   },
   "outputs": [],
   "source": [
    "gcloud storage buckets create gs://tw-rd-data-angus-tu-travel-demo1 \\\n",
    "    --location=asia-east1 \\\n",
    "    --project=tw-rd-data-angus-tu "
   ]
  },
  {
   "cell_type": "code",
   "execution_count": null,
   "id": "c98e2d4e",
   "metadata": {
    "vscode": {
     "languageId": "shellscript"
    }
   },
   "outputs": [],
   "source": [
    "gsutil mb -p tw-rd-data-angus-tu  -c STANDARD -l asia-east1 gs://tw-rd-data-angus-tu-travel-demo2"
   ]
  },
  {
   "cell_type": "markdown",
   "id": "781d8e72",
   "metadata": {},
   "source": [
    "----\n",
    "##  Use Python to Access GCS"
   ]
  },
  {
   "cell_type": "markdown",
   "id": "1611bef4",
   "metadata": {},
   "source": [
    "### Environment "
   ]
  },
  {
   "cell_type": "code",
   "execution_count": 14,
   "id": "0b0d2072",
   "metadata": {},
   "outputs": [],
   "source": [
    "from google.cloud import storage\n",
    "GCS = storage.Client()"
   ]
  },
  {
   "cell_type": "markdown",
   "id": "32cc8274",
   "metadata": {},
   "source": [
    "### Bucket\n",
    "> Create a bucket"
   ]
  },
  {
   "cell_type": "code",
   "execution_count": 15,
   "id": "f70762d2",
   "metadata": {},
   "outputs": [
    {
     "name": "stdout",
     "output_type": "stream",
     "text": [
      "Bucket tw-rd-data-angus-tu-travel-demo3 created in ASIA-EAST1\n"
     ]
    }
   ],
   "source": [
    "bucket_name = \"tw-rd-data-angus-tu-travel-demo3\"\n",
    "bucket = GCS.bucket(bucket_name)\n",
    "new_bucket = GCS.create_bucket(bucket, location=\"asia-east1\")\n",
    "print(f\"Bucket {new_bucket.name} created in {new_bucket.location}\")"
   ]
  },
  {
   "cell_type": "markdown",
   "id": "00dee9bd",
   "metadata": {},
   "source": [
    "> List buckets"
   ]
  },
  {
   "cell_type": "code",
   "execution_count": 16,
   "id": "7ca6ff43",
   "metadata": {},
   "outputs": [
    {
     "name": "stdout",
     "output_type": "stream",
     "text": [
      "tw-rd-data-angus-tu-travel-demo1\n",
      "tw-rd-data-angus-tu-travel-demo2\n",
      "tw-rd-data-angus-tu-travel-demo3\n"
     ]
    }
   ],
   "source": [
    "buckets = GCS.list_buckets()\n",
    "for bucket in buckets:\n",
    "    print(bucket.name)"
   ]
  },
  {
   "cell_type": "markdown",
   "id": "6e445a94",
   "metadata": {},
   "source": [
    "### Folder\n",
    "Create a (empty) folder"
   ]
  },
  {
   "cell_type": "code",
   "execution_count": null,
   "id": "8569f4ad",
   "metadata": {},
   "outputs": [],
   "source": [
    "bucket = GCS.bucket(\"tw-rd-data-angus-tu-travel-demo1\")\n",
    "blob = bucket.blob(\"data/\")\n",
    "blob.upload_from_string(\"\") "
   ]
  },
  {
   "cell_type": "markdown",
   "id": "f53c1fc3",
   "metadata": {},
   "source": [
    "### Object/File\n",
    "#### 1. Listing files\n",
    "Develop a function that lists files in a given GCS bucket. Enhance the function to allow filtering of files based on a specified prefix and suffix."
   ]
  },
  {
   "cell_type": "code",
   "execution_count": 47,
   "id": "1d832e11",
   "metadata": {},
   "outputs": [],
   "source": [
    "def list_file(client, bucket_name, folder=\"\", prefix=\"\", suffix=\"\"):\n",
    "\n",
    "    bucket = client.bucket(bucket_name)\n",
    "    \n",
    "    if folder:\n",
    "        folder = folder.rstrip(\"/\") + \"/\"\n",
    "    else:\n",
    "        folder = \"\"\n",
    "    search_prefix = folder + prefix\n",
    "    blobs = bucket.list_blobs(prefix=search_prefix, delimiter=\"/\")\n",
    "\n",
    "    results = []\n",
    "    \n",
    "    for blob in blobs:\n",
    "        name = blob.name\n",
    "        if name == folder: continue\n",
    "        if folder and \"/\" in name[len(folder):]: continue\n",
    "        if suffix and not name.endswith(suffix): continue\n",
    "        results.append(name)\n",
    "\n",
    "    return results"
   ]
  },
  {
   "cell_type": "code",
   "execution_count": null,
   "id": "ec9c3eeb",
   "metadata": {},
   "outputs": [
    {
     "data": {
      "text/plain": [
       "['data/.empty', 'data/null']"
      ]
     },
     "execution_count": 33,
     "metadata": {},
     "output_type": "execute_result"
    }
   ],
   "source": [
    "list_file(GCS, \"tw-rd-data-angus-tu-travel-demo1\",\"data\")"
   ]
  },
  {
   "cell_type": "markdown",
   "id": "a32001e8",
   "metadata": {},
   "source": [
    "#### 2. Upload files\n",
    "Implement a function to upload a file from a local machine to a specified GCS bucket."
   ]
  },
  {
   "cell_type": "code",
   "execution_count": 38,
   "id": "d8bac463",
   "metadata": {},
   "outputs": [],
   "source": [
    "def upload_file(client, bucket_name, source_file_name, sink_file_name, sink_dir = \"\"):\n",
    "\n",
    "    bucket = client.bucket(bucket_name)\n",
    "\n",
    "    if sink_dir: \n",
    "        sink_dir = sink_dir.rstrip(\"/\") + \"/\"\n",
    "    blob_name = sink_dir + sink_file_name\n",
    "    blob = bucket.blob(blob_name)\n",
    "    blob.upload_from_filename(source_file_name)\n",
    "\n",
    "    return f\"gs://{bucket_name}/{blob_name}\""
   ]
  },
  {
   "cell_type": "code",
   "execution_count": 44,
   "id": "e2838d1c",
   "metadata": {},
   "outputs": [
    {
     "data": {
      "text/plain": [
       "'gs://tw-rd-data-angus-tu-travel-demo1/test1.csv'"
      ]
     },
     "execution_count": 44,
     "metadata": {},
     "output_type": "execute_result"
    }
   ],
   "source": [
    "upload_file(GCS, \"tw-rd-data-angus-tu-travel-demo1\", \"test1.csv\", \"test1.csv\")"
   ]
  },
  {
   "cell_type": "code",
   "execution_count": 48,
   "id": "2983c721",
   "metadata": {},
   "outputs": [
    {
     "data": {
      "text/plain": [
       "['test1.csv']"
      ]
     },
     "execution_count": 48,
     "metadata": {},
     "output_type": "execute_result"
    }
   ],
   "source": [
    "list_file(GCS, \"tw-rd-data-angus-tu-travel-demo1\")"
   ]
  },
  {
   "cell_type": "markdown",
   "id": "2c70b894",
   "metadata": {},
   "source": [
    "> Upload all files in a folder using `gsutil`"
   ]
  },
  {
   "cell_type": "code",
   "execution_count": null,
   "id": "7221b60d",
   "metadata": {
    "vscode": {
     "languageId": "shellscript"
    }
   },
   "outputs": [
    {
     "data": {
      "text/plain": [
       "'gs://tw-rd-data-angus-tu-travel-demo1/test1.csv'"
      ]
     },
     "execution_count": 39,
     "metadata": {},
     "output_type": "execute_result"
    }
   ],
   "source": [
    "gsutil cp -r /Users/angus/Documents/file/folder1 gs://tw-rd-data-angus-tu-travel-demo1/data/folder1"
   ]
  },
  {
   "cell_type": "code",
   "execution_count": null,
   "id": "59f5d2c4",
   "metadata": {},
   "outputs": [
    {
     "data": {
      "text/plain": [
       "['data/folder1/test11.csv',\n",
       " 'data/folder1/test12.csv',\n",
       " 'data/folder1/test13.csv']"
      ]
     },
     "execution_count": 50,
     "metadata": {},
     "output_type": "execute_result"
    }
   ],
   "source": [
    "list_file(GCS, \"tw-rd-data-angus-tu-travel-demo1\",\"data/folder1\")"
   ]
  },
  {
   "cell_type": "markdown",
   "id": "04406431",
   "metadata": {},
   "source": [
    "#### 3. Download a file\n",
    "Implement a function to download a file from a specified GCS bucket to a local machine."
   ]
  },
  {
   "cell_type": "code",
   "execution_count": null,
   "id": "8c093a07",
   "metadata": {},
   "outputs": [],
   "source": [
    "def download_file(client, bucket_name, source_file_name, sink_file_name):\n",
    "    bucket = client.bucket(bucket_name)\n",
    "    blob = bucket.blob(source_file_name)\n",
    "    blob.download_to_filename(sink_file_name)\n",
    "    return "
   ]
  },
  {
   "cell_type": "code",
   "execution_count": 54,
   "id": "57c6bd39",
   "metadata": {},
   "outputs": [],
   "source": [
    "download_file(GCS, \"tw-rd-data-angus-tu-travel-demo1\", \"data/folder1/test11.csv\", \"test11_new.csv\")"
   ]
  },
  {
   "cell_type": "markdown",
   "id": "fcba1f82",
   "metadata": {},
   "source": [
    "#### 4. Delete a file\n",
    "Implement a function to delete a file from a specified GCS bucket."
   ]
  },
  {
   "cell_type": "code",
   "execution_count": 55,
   "id": "4c82e137",
   "metadata": {},
   "outputs": [],
   "source": [
    "def delete_file(client, bucket_name, file_name):\n",
    "    bucket = client.bucket(bucket_name)\n",
    "    blob = bucket.blob(file_name)\n",
    "    blob.delete()\n",
    "    return"
   ]
  },
  {
   "cell_type": "code",
   "execution_count": 56,
   "id": "59448191",
   "metadata": {},
   "outputs": [
    {
     "data": {
      "text/plain": [
       "['data/folder1/test11.csv', 'data/folder1/test12.csv']"
      ]
     },
     "execution_count": 56,
     "metadata": {},
     "output_type": "execute_result"
    }
   ],
   "source": [
    "delete_file(GCS, \"tw-rd-data-angus-tu-travel-demo1\", \"data/folder1/test13.csv\")\n",
    "list_file(GCS, \"tw-rd-data-angus-tu-travel-demo1\",\"data/folder1\")"
   ]
  },
  {
   "cell_type": "markdown",
   "id": "fa9ae8bb",
   "metadata": {},
   "source": [
    "> Delete specific files    \n",
    "\n",
    "Implement a function to delete multiple files from a specified GCS bucket based on a combination of parameters such as source_dir, prefix, and suffix."
   ]
  },
  {
   "cell_type": "code",
   "execution_count": 58,
   "id": "319414ac",
   "metadata": {},
   "outputs": [],
   "source": [
    "def delete_files(client, bucket_name, source_dir = \"\", prefix = \"\", suffix = \"\"):\n",
    "    bucket = client.bucket(bucket_name)\n",
    "\n",
    "    if source_dir:\n",
    "        source_dir = source_dir.rstrip(\"/\") + \"/\"\n",
    "\n",
    "    search_prefix = source_dir + prefix\n",
    "    blobs = bucket.list_blobs(prefix=search_prefix)\n",
    "\n",
    "    deleted_files = []\n",
    "\n",
    "    for blob in blobs:\n",
    "        name = blob.name\n",
    "        if name.endswith(\"/\"): continue\n",
    "        if suffix and not name.endswith(suffix): continue\n",
    "        blob.delete()\n",
    "        deleted_files.append(name)\n",
    "\n",
    "    return deleted_files\n"
   ]
  },
  {
   "cell_type": "code",
   "execution_count": 59,
   "id": "8870fb31",
   "metadata": {},
   "outputs": [
    {
     "data": {
      "text/plain": [
       "['data/folder1/test12.csv']"
      ]
     },
     "execution_count": 59,
     "metadata": {},
     "output_type": "execute_result"
    }
   ],
   "source": [
    "delete_files(GCS, \"tw-rd-data-angus-tu-travel-demo1\", suffix = \"2.csv\")"
   ]
  },
  {
   "cell_type": "markdown",
   "id": "5155d938",
   "metadata": {},
   "source": [
    "#### 5. Copy files\n",
    "Implement a function to copy files from a source GCS bucket to a destination (sink) GCS bucket based on specific parameters, with an option to delete the source files after copying."
   ]
  },
  {
   "cell_type": "code",
   "execution_count": null,
   "id": "ae625864",
   "metadata": {},
   "outputs": [],
   "source": [
    "from google.cloud import storage\n",
    "\n",
    "def copy_files(client, source_bucket_name, sink_bucket_name, delete_source = False, source_dir = \"\", sink_dir = \"\", prefix = \"\", suffix = \"\"):\n",
    "\n",
    "    source_bucket = client.bucket(source_bucket_name)\n",
    "    sink_bucket = client.bucket(sink_bucket_name)\n",
    "\n",
    "    if source_dir:\n",
    "        source_dir = source_dir.rstrip(\"/\") + \"/\"\n",
    "    if sink_dir:\n",
    "        sink_dir = sink_dir.rstrip(\"/\") + \"/\"\n",
    "\n",
    "    search_prefix = source_dir + prefix\n",
    "    blobs = source_bucket.list_blobs(prefix = search_prefix)\n",
    "\n",
    "    copied_files = []\n",
    "\n",
    "    for blob in blobs:\n",
    "        name = blob.name\n",
    "        if name.endswith(\"/\"): continue\n",
    "        if suffix and not name.endswith(suffix): continue\n",
    "        relative_name = name[len(source_dir):] if source_dir else name\n",
    "        sink_name = sink_dir + relative_name\n",
    "        source_bucket.copy_blob(blob, sink_bucket, new_name = sink_name)\n",
    "        copied_files.append(sink_name)\n",
    "\n",
    "        if delete_source:\n",
    "            blob.delete()\n",
    "\n",
    "    return copied_files\n"
   ]
  },
  {
   "cell_type": "code",
   "execution_count": 61,
   "id": "4f1fee2e",
   "metadata": {},
   "outputs": [
    {
     "data": {
      "text/plain": [
       "['data/folder2/test11.csv']"
      ]
     },
     "execution_count": 61,
     "metadata": {},
     "output_type": "execute_result"
    }
   ],
   "source": [
    "copy_files(GCS, \"tw-rd-data-angus-tu-travel-demo1\", \"tw-rd-data-angus-tu-travel-demo2\", source_dir = \"data/folder1/\", sink_dir = \"data/folder2/\")"
   ]
  }
 ],
 "metadata": {
  "kernelspec": {
   "display_name": "venv",
   "language": "python",
   "name": "python3"
  },
  "language_info": {
   "codemirror_mode": {
    "name": "ipython",
    "version": 3
   },
   "file_extension": ".py",
   "mimetype": "text/x-python",
   "name": "python",
   "nbconvert_exporter": "python",
   "pygments_lexer": "ipython3",
   "version": "3.12.8"
  }
 },
 "nbformat": 4,
 "nbformat_minor": 5
}
